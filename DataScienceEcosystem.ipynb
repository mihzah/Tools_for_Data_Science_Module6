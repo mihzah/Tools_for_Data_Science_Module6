{
 "cells": [
  {
   "cell_type": "markdown",
   "id": "a674f060-fbe7-4ab5-94fc-e68268e396bb",
   "metadata": {},
   "source": [
    "# Data Science Tools and Ecosystem"
   ]
  },
  {
   "cell_type": "markdown",
   "id": "8e476f3d-9057-4c57-8906-7271722db8ab",
   "metadata": {},
   "source": [
    "#### In this notebook, Data Science Tools and Ecosystem are summarized."
   ]
  },
  {
   "cell_type": "markdown",
   "id": "46c2cc8e-93c3-4b94-a1eb-3449969fcb5b",
   "metadata": {},
   "source": [
    "Objectives:\n",
    "List popular languages for Data Science\n",
    "- Python\n",
    "- R\n",
    "- SQL\n",
    "- Scala\n",
    "- Java"
   ]
  },
  {
   "cell_type": "markdown",
   "id": "f3e49563-93bb-4202-8087-5a35faa22c6b",
   "metadata": {},
   "source": [
    "Some of the popular languages that Data Scientists use are:\n",
    "\n",
    "1. Python\n",
    "2. R\n",
    "3. SQL\n",
    "4. Scala\n",
    "5. Java\n",
    "6. C++\n",
    "7. Julia"
   ]
  },
  {
   "cell_type": "markdown",
   "id": "322fddda-14e8-4ff0-995e-75319f789c45",
   "metadata": {},
   "source": [
    "Some of the commonly used libraries used by Data Scientists include:\n",
    "1. Weka\n",
    "2. Java-ML\n",
    "3. Apache MLlib\n",
    "4. Deeplearning4."
   ]
  },
  {
   "cell_type": "markdown",
   "id": "c10a863e-d393-490b-869f-449172ded158",
   "metadata": {},
   "source": [
    "|Data Science Tools|\n",
    "|:----------------:|\n",
    "|Apache Spark|\n",
    "|TensorFLow|\n",
    "|RStudio|\n",
    "|SAS|"
   ]
  },
  {
   "cell_type": "markdown",
   "id": "193a5025-47f4-4758-a26b-298348143a6f",
   "metadata": {},
   "source": [
    "### Below are a few examples of evaluating arithmetic expressions in Python\n",
    "\n",
    "$$\n",
    "a_1+b_2=c_3\n",
    "$$\n",
    "$$\n",
    "a^2+b^2=c^2\n",
    "$$\n",
    "$$\n",
    "{\\pi}*R^2\n",
    "$$\n",
    "$$\n",
    "2*{\\pi}*R\n",
    "$$"
   ]
  },
  {
   "cell_type": "code",
   "execution_count": 4,
   "id": "ad302862-68f4-46b9-9837-4038824bda62",
   "metadata": {},
   "outputs": [
    {
     "data": {
      "text/plain": [
       "17"
      ]
     },
     "execution_count": 4,
     "metadata": {},
     "output_type": "execute_result"
    }
   ],
   "source": [
    "#This a simple arithmetic expression to mutiply then add integers:\n",
    "(3*4)+5"
   ]
  },
  {
   "cell_type": "code",
   "execution_count": 5,
   "id": "819df516-d001-45d8-bee8-1d6e3e7f855c",
   "metadata": {},
   "outputs": [
    {
     "data": {
      "text/plain": [
       "3.3333333333333335"
      ]
     },
     "execution_count": 5,
     "metadata": {},
     "output_type": "execute_result"
    }
   ],
   "source": [
    "# This will convert 200 minutes to hours by diving by 60\n",
    "200/60"
   ]
  },
  {
   "cell_type": "code",
   "execution_count": null,
   "id": "3feac3e4-324d-4db1-a3af-b26dbaac3704",
   "metadata": {},
   "outputs": [],
   "source": []
  },
  {
   "cell_type": "markdown",
   "id": "ef88c43b-c591-43f3-adff-eb38952ba50e",
   "metadata": {},
   "source": [
    "## Mihail Zaharciuc\n",
    "Author"
   ]
  },
  {
   "cell_type": "code",
   "execution_count": null,
   "id": "69a6c9e8-3444-4863-80a8-9e41f8e631f7",
   "metadata": {},
   "outputs": [],
   "source": []
  }
 ],
 "metadata": {
  "kernelspec": {
   "display_name": "Python 3 (ipykernel)",
   "language": "python",
   "name": "python3"
  },
  "language_info": {
   "codemirror_mode": {
    "name": "ipython",
    "version": 3
   },
   "file_extension": ".py",
   "mimetype": "text/x-python",
   "name": "python",
   "nbconvert_exporter": "python",
   "pygments_lexer": "ipython3",
   "version": "3.10.12"
  }
 },
 "nbformat": 4,
 "nbformat_minor": 5
}
